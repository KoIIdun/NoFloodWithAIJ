{
 "cells": [
  {
   "cell_type": "code",
   "execution_count": 1,
   "metadata": {},
   "outputs": [],
   "source": [
    "import numpy as np\n",
    "import pandas as pd"
   ]
  },
  {
   "cell_type": "code",
   "execution_count": 23,
   "metadata": {},
   "outputs": [
    {
     "ename": "ModuleNotFoundError",
     "evalue": "No module named 'geopandas'",
     "output_type": "error",
     "traceback": [
      "\u001b[0;31m---------------------------------------------------------------------------\u001b[0m",
      "\u001b[0;31mModuleNotFoundError\u001b[0m                       Traceback (most recent call last)",
      "\u001b[0;32m<ipython-input-23-c7b1144391ee>\u001b[0m in \u001b[0;36m<module>\u001b[0;34m\u001b[0m\n\u001b[1;32m      3\u001b[0m \u001b[0;32mfrom\u001b[0m \u001b[0mwwo_hist\u001b[0m \u001b[0;32mimport\u001b[0m \u001b[0mretrieve_hist_data\u001b[0m\u001b[0;34m\u001b[0m\u001b[0;34m\u001b[0m\u001b[0m\n\u001b[1;32m      4\u001b[0m \u001b[0;32mimport\u001b[0m \u001b[0mxarray\u001b[0m \u001b[0;32mas\u001b[0m \u001b[0mxr\u001b[0m\u001b[0;34m\u001b[0m\u001b[0;34m\u001b[0m\u001b[0m\n\u001b[0;32m----> 5\u001b[0;31m \u001b[0;32mimport\u001b[0m \u001b[0mgeopandas\u001b[0m \u001b[0;32mas\u001b[0m \u001b[0mgpd\u001b[0m\u001b[0;34m\u001b[0m\u001b[0;34m\u001b[0m\u001b[0m\n\u001b[0m",
      "\u001b[0;31mModuleNotFoundError\u001b[0m: No module named 'geopandas'"
     ]
    }
   ],
   "source": [
    "from siphon.catalog import TDSCatalog\n",
    "from datetime import datetime, timedelta\n",
    "from wwo_hist import retrieve_hist_data\n",
    "import xarray as xr\n",
    "import geopandas as gpd"
   ]
  },
  {
   "cell_type": "code",
   "execution_count": 12,
   "metadata": {},
   "outputs": [],
   "source": [
    "def get_weather_forecast(start, end):\n",
    "  \"\"\"прогноз погоды глобальной модели GFS\n",
    "  \"\"\"\n",
    "  tz = 'Europe/Moscow'\n",
    "  forecastvariables = ['Temperature_isobaric', 'Temperature_surface', 'Precipitation_rate_surface']\n",
    "\n",
    "  gfs_cat = TDSCatalog('http://thredds.ucar.edu/thredds/catalog'\n",
    "                       '/grib/NCEP/GFS/Global_0p5deg/catalog.xml')\n",
    "  latest = gfs_cat.latest\n",
    "  ncss = latest.subset()\n",
    "  query = ncss.query().variables(*forecastvariables)\n",
    "  query.time_range(start, end).accept('netCDF4')\n",
    "  nc = ncss.get_data(query)\n",
    "  return nc\n",
    "\n",
    "\n",
    "weather_frcst = get_weather_forecast(datetime.utcnow() + timedelta(days=1), datetime.utcnow() + timedelta(days=11))"
   ]
  },
  {
   "cell_type": "code",
   "execution_count": 13,
   "metadata": {},
   "outputs": [
    {
     "data": {
      "text/plain": [
       "<class 'netCDF4._netCDF4.Dataset'>\n",
       "root group (NETCDF4 data model, file format HDF5):\n",
       "    Originating_or_generating_Center: US National Weather Service, National Centres for Environmental Prediction (NCEP)\n",
       "    Originating_or_generating_Subcenter: 0\n",
       "    GRIB_table_version: 2,1\n",
       "    Type_of_generating_process: Forecast\n",
       "    Analysis_or_forecast_generating_process_identifier_defined_by_originating_centre: Analysis from GFS (Global Forecast System)\n",
       "    Conventions: CF-1.6\n",
       "    history: Read using CDM IOSP GribCollection v3\n",
       "    featureType: GRID\n",
       "    History: Translated to CF-1.0 Conventions by Netcdf-Java CDM (CFGridWriter2)\n",
       "Original Dataset = /data/ldm/pub/native/grid/NCEP/GFS/Global_0p5deg/GFS_Global_0p5deg_20201122_0000.grib2.ncx3#LatLon_361X720-p25S-180p0E; Translation Date = 2020-11-22T10:56:44.881Z\n",
       "    geospatial_lat_min: -90.0\n",
       "    geospatial_lat_max: 90.0\n",
       "    geospatial_lon_min: 0.0\n",
       "    geospatial_lon_max: 359.5\n",
       "    dimensions(sizes): time2(80), lat(361), lon(720), isobaric6(34)\n",
       "    variables(dimensions): float32 Precipitation_rate_surface(time2,lat,lon), float64 time2(time2), float32 lat(lat), float32 lon(lon), int32 LatLon_Projection(), float32 Temperature_surface(time2,lat,lon), float32 Temperature_isobaric(time2,isobaric6,lat,lon), float32 isobaric6(isobaric6)\n",
       "    groups: "
      ]
     },
     "execution_count": 13,
     "metadata": {},
     "output_type": "execute_result"
    }
   ],
   "source": [
    "weather_frcst"
   ]
  },
  {
   "cell_type": "code",
   "execution_count": 24,
   "metadata": {},
   "outputs": [
    {
     "ename": "NameError",
     "evalue": "name 'gpd' is not defined",
     "output_type": "error",
     "traceback": [
      "\u001b[0;31m---------------------------------------------------------------------------\u001b[0m",
      "\u001b[0;31mNameError\u001b[0m                                 Traceback (most recent call last)",
      "\u001b[0;32m<ipython-input-24-d83bcfcb310a>\u001b[0m in \u001b[0;36m<module>\u001b[0;34m\u001b[0m\n\u001b[1;32m      1\u001b[0m \u001b[0mtargets\u001b[0m \u001b[0;34m=\u001b[0m \u001b[0;34m(\u001b[0m\u001b[0;34m'06005'\u001b[0m\u001b[0;34m,\u001b[0m \u001b[0;34m'06022'\u001b[0m\u001b[0;34m,\u001b[0m \u001b[0;34m'06296'\u001b[0m\u001b[0;34m,\u001b[0m \u001b[0;34m'06027'\u001b[0m\u001b[0;34m,\u001b[0m \u001b[0;34m'05004'\u001b[0m\u001b[0;34m,\u001b[0m \u001b[0;34m'05012'\u001b[0m\u001b[0;34m,\u001b[0m \u001b[0;34m'05024'\u001b[0m\u001b[0;34m,\u001b[0m \u001b[0;34m'05805'\u001b[0m\u001b[0;34m)\u001b[0m\u001b[0;34m\u001b[0m\u001b[0;34m\u001b[0m\u001b[0m\n\u001b[1;32m      2\u001b[0m \u001b[0;32mimport\u001b[0m \u001b[0mxarray\u001b[0m \u001b[0;32mas\u001b[0m \u001b[0mxr\u001b[0m\u001b[0;34m\u001b[0m\u001b[0;34m\u001b[0m\u001b[0m\n\u001b[0;32m----> 3\u001b[0;31m \u001b[0masunp\u001b[0m \u001b[0;34m=\u001b[0m \u001b[0mgpd\u001b[0m\u001b[0;34m.\u001b[0m\u001b[0mread_file\u001b[0m\u001b[0;34m(\u001b[0m\u001b[0;34m'http://asunp.meteo.ru/geoits-rest/services/asunp/geo.json'\u001b[0m\u001b[0;34m,\u001b[0m \u001b[0mdriver\u001b[0m\u001b[0;34m=\u001b[0m\u001b[0;34m'GeoJSON'\u001b[0m\u001b[0;34m)\u001b[0m\u001b[0;34m\u001b[0m\u001b[0;34m\u001b[0m\u001b[0m\n\u001b[0m\u001b[1;32m      4\u001b[0m \u001b[0mposts\u001b[0m \u001b[0;34m=\u001b[0m \u001b[0masunp\u001b[0m\u001b[0;34m[\u001b[0m\u001b[0masunp\u001b[0m\u001b[0;34m.\u001b[0m\u001b[0mgidro\u001b[0m\u001b[0;34m.\u001b[0m\u001b[0misin\u001b[0m\u001b[0;34m(\u001b[0m\u001b[0mtargets\u001b[0m\u001b[0;34m)\u001b[0m \u001b[0;34m&\u001b[0m \u001b[0;34m(\u001b[0m\u001b[0masunp\u001b[0m\u001b[0;34m.\u001b[0m\u001b[0mktoCategory\u001b[0m\u001b[0;34m.\u001b[0m\u001b[0misin\u001b[0m\u001b[0;34m(\u001b[0m\u001b[0;34m[\u001b[0m\u001b[0;34m'post_gidro'\u001b[0m\u001b[0;34m,\u001b[0m \u001b[0;34m'station_gidro'\u001b[0m\u001b[0;34m]\u001b[0m\u001b[0;34m)\u001b[0m\u001b[0;34m)\u001b[0m\u001b[0;34m]\u001b[0m\u001b[0;34m.\u001b[0m\u001b[0msort_values\u001b[0m\u001b[0;34m(\u001b[0m\u001b[0mby\u001b[0m\u001b[0;34m=\u001b[0m\u001b[0;34m[\u001b[0m\u001b[0;34m'lon'\u001b[0m\u001b[0;34m]\u001b[0m\u001b[0;34m)\u001b[0m\u001b[0;34m.\u001b[0m\u001b[0mset_index\u001b[0m\u001b[0;34m(\u001b[0m\u001b[0;34m'gidro'\u001b[0m\u001b[0;34m,\u001b[0m \u001b[0mdrop\u001b[0m\u001b[0;34m=\u001b[0m\u001b[0;32mFalse\u001b[0m\u001b[0;34m)\u001b[0m\u001b[0;34m\u001b[0m\u001b[0;34m\u001b[0m\u001b[0m\n\u001b[1;32m      5\u001b[0m \u001b[0mfds\u001b[0m \u001b[0;34m=\u001b[0m \u001b[0mxr\u001b[0m\u001b[0;34m.\u001b[0m\u001b[0mopen_dataset\u001b[0m\u001b[0;34m(\u001b[0m\u001b[0mxr\u001b[0m\u001b[0;34m.\u001b[0m\u001b[0mbackends\u001b[0m\u001b[0;34m.\u001b[0m\u001b[0mNetCDF4DataStore\u001b[0m\u001b[0;34m(\u001b[0m\u001b[0mweather_frcst\u001b[0m\u001b[0;34m)\u001b[0m\u001b[0;34m)\u001b[0m\u001b[0;34m\u001b[0m\u001b[0;34m\u001b[0m\u001b[0m\n",
      "\u001b[0;31mNameError\u001b[0m: name 'gpd' is not defined"
     ]
    }
   ],
   "source": [
    "targets = ('06005', '06022', '06296', '06027', '05004', '05012', '05024', '05805')\n",
    "import xarray as xr\n",
    "asunp = gpd.read_file('http://asunp.meteo.ru/geoits-rest/services/asunp/geo.json', driver='GeoJSON')\n",
    "posts = asunp[asunp.gidro.isin(targets) & (asunp.ktoCategory.isin(['post_gidro', 'station_gidro']))].sort_values(by=['lon']).set_index('gidro', drop=False)\n",
    "fds = xr.open_dataset(xr.backends.NetCDF4DataStore(weather_frcst))\n",
    "fds = fds.sel(isobaric6=100000)\n",
    "\n",
    "def predict(weather_frcst):\n",
    "  predictions = []\n",
    "  for identifier in targets:\n",
    "    point = weather_frcst.sel(lat=posts.loc[identifier].lat,\n",
    "                              lon=posts.loc[identifier].lon,\n",
    "                              method='nearest'\n",
    "                              )\n",
    "    future = point.to_dataframe().reset_index()\n",
    "    future = future.rename({i: \"ds\" for i in future.columns if i.startswith(\"time\")}, axis=1)\n",
    "    future = future.rename({\n",
    "        'Temperature_surface': 'temperature_ground',\n",
    "        'Temperature_isobaric': 'temperature_air',\n",
    "        'Precipitation_rate_surface': 'precipitation_amount'\n",
    "        }, axis=1)\n",
    "\n",
    "    future = future.set_index('ds').resample('D')\\\n",
    "      .agg({\n",
    "        'precipitation_amount': 'sum',\n",
    "        'temperature_air': 'mean', 'temperature_ground': 'mean'\n",
    "    })\n",
    "    \n",
    "    future = future.reset_index()\n",
    "    future['temperature_air'] = future.temperature_air - 273.15\n",
    "    future['temperature_ground'] = future.temperature_ground - 273.15\n",
    "\n",
    "    future['spring'] = future['ds'].apply(is_spring)\n",
    "    future['summer'] = future['ds'].apply(is_summer)\n",
    "\n",
    "    with open(f'./models/{int(identifier)}.pkl', 'rb') as f:\n",
    "      forecaster = pickle.load(f)\n",
    "      forecast = forecaster.predict(future)\n",
    "      sf = forecast.set_index('ds').yhat.rename('5012')\n",
    "      predictions.append(sf)\n",
    "\n",
    "  return predictions"
   ]
  },
  {
   "cell_type": "code",
   "execution_count": 21,
   "metadata": {},
   "outputs": [
    {
     "ename": "NameError",
     "evalue": "name 'posts' is not defined",
     "output_type": "error",
     "traceback": [
      "\u001b[0;31m---------------------------------------------------------------------------\u001b[0m",
      "\u001b[0;31mNameError\u001b[0m                                 Traceback (most recent call last)",
      "\u001b[0;32m<ipython-input-21-f7b84a66826d>\u001b[0m in \u001b[0;36m<module>\u001b[0;34m\u001b[0m\n\u001b[0;32m----> 1\u001b[0;31m \u001b[0mpredictions\u001b[0m \u001b[0;34m=\u001b[0m \u001b[0mpredict\u001b[0m\u001b[0;34m(\u001b[0m\u001b[0mfds\u001b[0m\u001b[0;34m)\u001b[0m\u001b[0;34m\u001b[0m\u001b[0;34m\u001b[0m\u001b[0m\n\u001b[0m",
      "\u001b[0;32m<ipython-input-20-1f9dad0f99d6>\u001b[0m in \u001b[0;36mpredict\u001b[0;34m(weather_frcst)\u001b[0m\n\u001b[1;32m      7\u001b[0m   \u001b[0mpredictions\u001b[0m \u001b[0;34m=\u001b[0m \u001b[0;34m[\u001b[0m\u001b[0;34m]\u001b[0m\u001b[0;34m\u001b[0m\u001b[0;34m\u001b[0m\u001b[0m\n\u001b[1;32m      8\u001b[0m   \u001b[0;32mfor\u001b[0m \u001b[0midentifier\u001b[0m \u001b[0;32min\u001b[0m \u001b[0mtargets\u001b[0m\u001b[0;34m:\u001b[0m\u001b[0;34m\u001b[0m\u001b[0;34m\u001b[0m\u001b[0m\n\u001b[0;32m----> 9\u001b[0;31m     point = weather_frcst.sel(lat=posts.loc[identifier].lat,\n\u001b[0m\u001b[1;32m     10\u001b[0m                               \u001b[0mlon\u001b[0m\u001b[0;34m=\u001b[0m\u001b[0mposts\u001b[0m\u001b[0;34m.\u001b[0m\u001b[0mloc\u001b[0m\u001b[0;34m[\u001b[0m\u001b[0midentifier\u001b[0m\u001b[0;34m]\u001b[0m\u001b[0;34m.\u001b[0m\u001b[0mlon\u001b[0m\u001b[0;34m,\u001b[0m\u001b[0;34m\u001b[0m\u001b[0;34m\u001b[0m\u001b[0m\n\u001b[1;32m     11\u001b[0m                               \u001b[0mmethod\u001b[0m\u001b[0;34m=\u001b[0m\u001b[0;34m'nearest'\u001b[0m\u001b[0;34m\u001b[0m\u001b[0;34m\u001b[0m\u001b[0m\n",
      "\u001b[0;31mNameError\u001b[0m: name 'posts' is not defined"
     ]
    }
   ],
   "source": [
    "predictions = predict(fds)"
   ]
  },
  {
   "cell_type": "code",
   "execution_count": null,
   "metadata": {},
   "outputs": [],
   "source": []
  }
 ],
 "metadata": {
  "kernelspec": {
   "display_name": "Python 3",
   "language": "python",
   "name": "python3"
  },
  "language_info": {
   "codemirror_mode": {
    "name": "ipython",
    "version": 3
   },
   "file_extension": ".py",
   "mimetype": "text/x-python",
   "name": "python",
   "nbconvert_exporter": "python",
   "pygments_lexer": "ipython3",
   "version": "3.8.3"
  }
 },
 "nbformat": 4,
 "nbformat_minor": 4
}
