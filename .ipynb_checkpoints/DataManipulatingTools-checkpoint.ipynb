{
 "cells": [
  {
   "cell_type": "code",
   "execution_count": 82,
   "metadata": {},
   "outputs": [],
   "source": [
    "import sys\n",
    "import numpy as np\n",
    "import pandas as pd"
   ]
  },
  {
   "cell_type": "code",
   "execution_count": 83,
   "metadata": {},
   "outputs": [],
   "source": [
    "ILLEGAL_ARGUMENT=\"Wrong arguments: either end>start or end-start<=1 year.\""
   ]
  },
  {
   "cell_type": "code",
   "execution_count": 111,
   "metadata": {},
   "outputs": [],
   "source": [
    "def distribute_data(ts_start,ts_end):\n",
    "    if ts_end<ts_start or ts_end-ts_start<=pd.Timedelta(days=366):\n",
    "        print(ILLEGAL_ARGUMENT,file=sys.stderr)\n",
    "        return ts_start,ts_end,ts_start,ts_end\n",
    "    else:\n",
    "        test_ts_start=ts_end-pd.DateOffset(years=1)\n",
    "        train_ts_end=test_ts_start-pd.DateOffset(days=1)\n",
    "        return ts_start,train_ts_end,test_ts_start,ts_end"
   ]
  },
  {
   "cell_type": "markdown",
   "metadata": {},
   "source": [
    "# Testing"
   ]
  },
  {
   "cell_type": "code",
   "execution_count": 112,
   "metadata": {},
   "outputs": [],
   "source": [
    "dt=pd.to_datetime('2018-01-01')\n",
    "dt1=pd.to_datetime('2017-01-01')\n",
    "dt2=pd.to_datetime('2016-01-01')"
   ]
  },
  {
   "cell_type": "code",
   "execution_count": 113,
   "metadata": {},
   "outputs": [
    {
     "name": "stderr",
     "output_type": "stream",
     "text": [
      "Wrong arguments: either end>start or end-start<=1 year.\n"
     ]
    }
   ],
   "source": [
    "a,b,c,d=distribute_data(dt,dt1)"
   ]
  },
  {
   "cell_type": "code",
   "execution_count": 114,
   "metadata": {},
   "outputs": [
    {
     "name": "stderr",
     "output_type": "stream",
     "text": [
      "Wrong arguments: either end>start or end-start<=1 year.\n"
     ]
    }
   ],
   "source": [
    "a,b,c,d=distribute_data(dt1,dt)"
   ]
  },
  {
   "cell_type": "code",
   "execution_count": 115,
   "metadata": {},
   "outputs": [
    {
     "data": {
      "text/plain": [
       "(Timestamp('2016-01-01 00:00:00'),\n",
       " Timestamp('2016-12-31 00:00:00'),\n",
       " Timestamp('2017-01-01 00:00:00'),\n",
       " Timestamp('2018-01-01 00:00:00'))"
      ]
     },
     "execution_count": 115,
     "metadata": {},
     "output_type": "execute_result"
    }
   ],
   "source": [
    "distribute_data(dt2,dt)"
   ]
  },
  {
   "cell_type": "code",
   "execution_count": null,
   "metadata": {},
   "outputs": [],
   "source": []
  }
 ],
 "metadata": {
  "kernelspec": {
   "display_name": "Python 3",
   "language": "python",
   "name": "python3"
  },
  "language_info": {
   "codemirror_mode": {
    "name": "ipython",
    "version": 3
   },
   "file_extension": ".py",
   "mimetype": "text/x-python",
   "name": "python",
   "nbconvert_exporter": "python",
   "pygments_lexer": "ipython3",
   "version": "3.8.3"
  }
 },
 "nbformat": 4,
 "nbformat_minor": 4
}
