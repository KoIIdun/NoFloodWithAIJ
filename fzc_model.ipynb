{
 "cells": [
  {
   "cell_type": "code",
   "execution_count": 2,
   "metadata": {},
   "outputs": [
    {
     "ename": "SyntaxError",
     "evalue": "invalid syntax (<ipython-input-2-2c871e2193dd>, line 6)",
     "output_type": "error",
     "traceback": [
      "\u001b[1;36m  File \u001b[1;32m\"<ipython-input-2-2c871e2193dd>\"\u001b[1;36m, line \u001b[1;32m6\u001b[0m\n\u001b[1;33m    self.idmap =\u001b[0m\n\u001b[1;37m                 ^\u001b[0m\n\u001b[1;31mSyntaxError\u001b[0m\u001b[1;31m:\u001b[0m invalid syntax\n"
     ]
    }
   ],
   "source": [
    "class FzcModel():\n",
    "    def __init__(self, gdata, grev=[], idmap):\n",
    "        self.gdata = gdata\n",
    "        self.grev = grev\n",
    "        self.grev_calc()\n",
    "        self.idmap = idmap\n",
    "        pass\n",
    "    def grev_calc(self):\n",
    "        if self.grev == [] and self.gdata != []:\n",
    "            self.grev = [[] for i in range(len(self.gdata))]\n",
    "            for i in range(len(self.gdata)):\n",
    "                for j in range(len(self.gdata[i])):\n",
    "                    self.grev[self.gdata[i][j]].append(i)\n",
    "    def fit():\n",
    "        \n",
    "    def fit_node(self, nodeid=-1, nodenum=-1):\n",
    "    "
   ]
  },
  {
   "cell_type": "code",
   "execution_count": null,
   "metadata": {},
   "outputs": [],
   "source": []
  }
 ],
 "metadata": {
  "kernelspec": {
   "display_name": "Python 3",
   "language": "python",
   "name": "python3"
  },
  "language_info": {
   "codemirror_mode": {
    "name": "ipython",
    "version": 3
   },
   "file_extension": ".py",
   "mimetype": "text/x-python",
   "name": "python",
   "nbconvert_exporter": "python",
   "pygments_lexer": "ipython3",
   "version": "3.8.5"
  }
 },
 "nbformat": 4,
 "nbformat_minor": 4
}
